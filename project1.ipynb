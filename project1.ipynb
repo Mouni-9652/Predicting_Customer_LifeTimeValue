{
 "cells": [
  {
   "cell_type": "markdown",
   "id": "4047df01",
   "metadata": {},
   "source": [
    "#                                        **PROJECT-1**\n",
    "\n",
    "# **Predicting Customer Lifetime Value in E-commerce**"
   ]
  },
  {
   "cell_type": "markdown",
   "id": "758c9da6",
   "metadata": {},
   "source": [
    "**Regression     :** \n",
    "\n",
    "**______________________________**\n",
    "\n",
    "**6 : Predicting Customer Lifetime Value in E-commerce : Problem Statement: Predicting Customer Lifetime Value in E-commerce\n",
    "Project Description: Develop a regression model to predict the lifetime value of customers in an e-commerce business based on their purchase history, browsing behavior, and demographic data.\n",
    "Domain: E-commerce**"
   ]
  },
  {
   "cell_type": "code",
   "execution_count": 49,
   "id": "c174527f",
   "metadata": {
    "scrolled": true
   },
   "outputs": [
    {
     "data": {
      "text/html": [
       "<div>\n",
       "<style scoped>\n",
       "    .dataframe tbody tr th:only-of-type {\n",
       "        vertical-align: middle;\n",
       "    }\n",
       "\n",
       "    .dataframe tbody tr th {\n",
       "        vertical-align: top;\n",
       "    }\n",
       "\n",
       "    .dataframe thead th {\n",
       "        text-align: right;\n",
       "    }\n",
       "</style>\n",
       "<table border=\"1\" class=\"dataframe\">\n",
       "  <thead>\n",
       "    <tr style=\"text-align: right;\">\n",
       "      <th></th>\n",
       "      <th>product_id</th>\n",
       "      <th>qty</th>\n",
       "      <th>amount</th>\n",
       "      <th>stock_code</th>\n",
       "    </tr>\n",
       "  </thead>\n",
       "  <tbody>\n",
       "    <tr>\n",
       "      <th>0</th>\n",
       "      <td>133</td>\n",
       "      <td>9</td>\n",
       "      <td>14.57</td>\n",
       "      <td>36239634</td>\n",
       "    </tr>\n",
       "    <tr>\n",
       "      <th>1</th>\n",
       "      <td>155</td>\n",
       "      <td>5</td>\n",
       "      <td>65.48</td>\n",
       "      <td>2820163</td>\n",
       "    </tr>\n",
       "    <tr>\n",
       "      <th>2</th>\n",
       "      <td>151</td>\n",
       "      <td>9</td>\n",
       "      <td>24.66</td>\n",
       "      <td>27006726</td>\n",
       "    </tr>\n",
       "    <tr>\n",
       "      <th>3</th>\n",
       "      <td>143</td>\n",
       "      <td>4</td>\n",
       "      <td>21.34</td>\n",
       "      <td>83036521</td>\n",
       "    </tr>\n",
       "    <tr>\n",
       "      <th>4</th>\n",
       "      <td>168</td>\n",
       "      <td>2</td>\n",
       "      <td>83.90</td>\n",
       "      <td>80142652</td>\n",
       "    </tr>\n",
       "    <tr>\n",
       "      <th>...</th>\n",
       "      <td>...</td>\n",
       "      <td>...</td>\n",
       "      <td>...</td>\n",
       "      <td>...</td>\n",
       "    </tr>\n",
       "    <tr>\n",
       "      <th>9995</th>\n",
       "      <td>133</td>\n",
       "      <td>1</td>\n",
       "      <td>39.82</td>\n",
       "      <td>53513212</td>\n",
       "    </tr>\n",
       "    <tr>\n",
       "      <th>9996</th>\n",
       "      <td>133</td>\n",
       "      <td>1</td>\n",
       "      <td>21.94</td>\n",
       "      <td>61754737</td>\n",
       "    </tr>\n",
       "    <tr>\n",
       "      <th>9997</th>\n",
       "      <td>173</td>\n",
       "      <td>2</td>\n",
       "      <td>62.05</td>\n",
       "      <td>17037907</td>\n",
       "    </tr>\n",
       "    <tr>\n",
       "      <th>9998</th>\n",
       "      <td>146</td>\n",
       "      <td>5</td>\n",
       "      <td>11.35</td>\n",
       "      <td>32764659</td>\n",
       "    </tr>\n",
       "    <tr>\n",
       "      <th>9999</th>\n",
       "      <td>193</td>\n",
       "      <td>2</td>\n",
       "      <td>39.04</td>\n",
       "      <td>52015342</td>\n",
       "    </tr>\n",
       "  </tbody>\n",
       "</table>\n",
       "<p>10000 rows × 4 columns</p>\n",
       "</div>"
      ],
      "text/plain": [
       "      product_id  qty  amount  stock_code\n",
       "0            133    9   14.57    36239634\n",
       "1            155    5   65.48     2820163\n",
       "2            151    9   24.66    27006726\n",
       "3            143    4   21.34    83036521\n",
       "4            168    2   83.90    80142652\n",
       "...          ...  ...     ...         ...\n",
       "9995         133    1   39.82    53513212\n",
       "9996         133    1   21.94    61754737\n",
       "9997         173    2   62.05    17037907\n",
       "9998         146    5   11.35    32764659\n",
       "9999         193    2   39.04    52015342\n",
       "\n",
       "[10000 rows x 4 columns]"
      ]
     },
     "execution_count": 49,
     "metadata": {},
     "output_type": "execute_result"
    }
   ],
   "source": [
    "\n",
    "                                  ##### RETAIL DATASET #######\n",
    "\n",
    "\n",
    "\n",
    "# Importing Libraries\n",
    "\n",
    "#importing pandas library as pd\n",
    "import pandas as pd\n",
    "\n",
    "#importing numpy library as np\n",
    "import numpy as np\n",
    "\n",
    "#from matplotlib library importing pyplot as plt\n",
    "import matplotlib.pyplot as plt\n",
    "\n",
    "#importing seaborn library as sns\n",
    "import seaborn as sns\n",
    "\n",
    "#importing filterwarnings from warnings\n",
    "import warnings\n",
    "warnings.filterwarnings('ignore')\n",
    "\n",
    "#loading the retail dataset\n",
    "df = pd.read_csv(\"Retail.csv\")\n",
    "df"
   ]
  },
  {
   "cell_type": "code",
   "execution_count": 50,
   "id": "0833f93a",
   "metadata": {
    "scrolled": false
   },
   "outputs": [
    {
     "name": "stdout",
     "output_type": "stream",
     "text": [
      "<class 'pandas.core.frame.DataFrame'>\n",
      "RangeIndex: 10000 entries, 0 to 9999\n",
      "Data columns (total 4 columns):\n",
      " #   Column      Non-Null Count  Dtype  \n",
      "---  ------      --------------  -----  \n",
      " 0   product_id  10000 non-null  int64  \n",
      " 1   qty         10000 non-null  int64  \n",
      " 2   amount      10000 non-null  float64\n",
      " 3   stock_code  10000 non-null  int64  \n",
      "dtypes: float64(1), int64(3)\n",
      "memory usage: 312.6 KB\n"
     ]
    }
   ],
   "source": [
    "df.info()"
   ]
  },
  {
   "cell_type": "code",
   "execution_count": 51,
   "id": "22284dfc",
   "metadata": {},
   "outputs": [
    {
     "data": {
      "text/html": [
       "<div>\n",
       "<style scoped>\n",
       "    .dataframe tbody tr th:only-of-type {\n",
       "        vertical-align: middle;\n",
       "    }\n",
       "\n",
       "    .dataframe tbody tr th {\n",
       "        vertical-align: top;\n",
       "    }\n",
       "\n",
       "    .dataframe thead th {\n",
       "        text-align: right;\n",
       "    }\n",
       "</style>\n",
       "<table border=\"1\" class=\"dataframe\">\n",
       "  <thead>\n",
       "    <tr style=\"text-align: right;\">\n",
       "      <th></th>\n",
       "      <th>product_id</th>\n",
       "      <th>qty</th>\n",
       "      <th>amount</th>\n",
       "      <th>stock_code</th>\n",
       "    </tr>\n",
       "  </thead>\n",
       "  <tbody>\n",
       "    <tr>\n",
       "      <th>count</th>\n",
       "      <td>10000.000000</td>\n",
       "      <td>10000.000000</td>\n",
       "      <td>10000.000000</td>\n",
       "      <td>1.000000e+04</td>\n",
       "    </tr>\n",
       "    <tr>\n",
       "      <th>mean</th>\n",
       "      <td>149.746700</td>\n",
       "      <td>5.005900</td>\n",
       "      <td>52.918236</td>\n",
       "      <td>4.950036e+07</td>\n",
       "    </tr>\n",
       "    <tr>\n",
       "      <th>std</th>\n",
       "      <td>28.728186</td>\n",
       "      <td>2.576767</td>\n",
       "      <td>27.434579</td>\n",
       "      <td>2.903081e+07</td>\n",
       "    </tr>\n",
       "    <tr>\n",
       "      <th>min</th>\n",
       "      <td>100.000000</td>\n",
       "      <td>1.000000</td>\n",
       "      <td>5.010000</td>\n",
       "      <td>1.977000e+03</td>\n",
       "    </tr>\n",
       "    <tr>\n",
       "      <th>25%</th>\n",
       "      <td>125.000000</td>\n",
       "      <td>3.000000</td>\n",
       "      <td>29.137500</td>\n",
       "      <td>2.425234e+07</td>\n",
       "    </tr>\n",
       "    <tr>\n",
       "      <th>50%</th>\n",
       "      <td>150.000000</td>\n",
       "      <td>5.000000</td>\n",
       "      <td>53.485000</td>\n",
       "      <td>4.931714e+07</td>\n",
       "    </tr>\n",
       "    <tr>\n",
       "      <th>75%</th>\n",
       "      <td>175.000000</td>\n",
       "      <td>7.000000</td>\n",
       "      <td>76.520000</td>\n",
       "      <td>7.457446e+07</td>\n",
       "    </tr>\n",
       "    <tr>\n",
       "      <th>max</th>\n",
       "      <td>199.000000</td>\n",
       "      <td>9.000000</td>\n",
       "      <td>99.990000</td>\n",
       "      <td>9.999216e+07</td>\n",
       "    </tr>\n",
       "  </tbody>\n",
       "</table>\n",
       "</div>"
      ],
      "text/plain": [
       "         product_id           qty        amount    stock_code\n",
       "count  10000.000000  10000.000000  10000.000000  1.000000e+04\n",
       "mean     149.746700      5.005900     52.918236  4.950036e+07\n",
       "std       28.728186      2.576767     27.434579  2.903081e+07\n",
       "min      100.000000      1.000000      5.010000  1.977000e+03\n",
       "25%      125.000000      3.000000     29.137500  2.425234e+07\n",
       "50%      150.000000      5.000000     53.485000  4.931714e+07\n",
       "75%      175.000000      7.000000     76.520000  7.457446e+07\n",
       "max      199.000000      9.000000     99.990000  9.999216e+07"
      ]
     },
     "execution_count": 51,
     "metadata": {},
     "output_type": "execute_result"
    }
   ],
   "source": [
    "df.describe()"
   ]
  },
  {
   "cell_type": "code",
   "execution_count": 52,
   "id": "0e8f1460",
   "metadata": {},
   "outputs": [
    {
     "data": {
      "text/plain": [
       "product_id    0\n",
       "qty           0\n",
       "amount        0\n",
       "stock_code    0\n",
       "dtype: int64"
      ]
     },
     "execution_count": 52,
     "metadata": {},
     "output_type": "execute_result"
    }
   ],
   "source": [
    "df.isna().sum()"
   ]
  },
  {
   "cell_type": "code",
   "execution_count": 53,
   "id": "19845f00",
   "metadata": {},
   "outputs": [
    {
     "data": {
      "text/plain": [
       "Index(['product_id', 'qty', 'amount', 'stock_code'], dtype='object')"
      ]
     },
     "execution_count": 53,
     "metadata": {},
     "output_type": "execute_result"
    }
   ],
   "source": [
    "df.columns"
   ]
  },
  {
   "cell_type": "code",
   "execution_count": 54,
   "id": "814823ca",
   "metadata": {
    "scrolled": true
   },
   "outputs": [
    {
     "data": {
      "text/html": [
       "<div>\n",
       "<style scoped>\n",
       "    .dataframe tbody tr th:only-of-type {\n",
       "        vertical-align: middle;\n",
       "    }\n",
       "\n",
       "    .dataframe tbody tr th {\n",
       "        vertical-align: top;\n",
       "    }\n",
       "\n",
       "    .dataframe thead th {\n",
       "        text-align: right;\n",
       "    }\n",
       "</style>\n",
       "<table border=\"1\" class=\"dataframe\">\n",
       "  <thead>\n",
       "    <tr style=\"text-align: right;\">\n",
       "      <th></th>\n",
       "      <th>product_id</th>\n",
       "      <th>qty</th>\n",
       "      <th>amount</th>\n",
       "      <th>stock_code</th>\n",
       "    </tr>\n",
       "  </thead>\n",
       "  <tbody>\n",
       "    <tr>\n",
       "      <th>0</th>\n",
       "      <td>133</td>\n",
       "      <td>9</td>\n",
       "      <td>14.57</td>\n",
       "      <td>36239634</td>\n",
       "    </tr>\n",
       "    <tr>\n",
       "      <th>1</th>\n",
       "      <td>155</td>\n",
       "      <td>5</td>\n",
       "      <td>65.48</td>\n",
       "      <td>2820163</td>\n",
       "    </tr>\n",
       "    <tr>\n",
       "      <th>2</th>\n",
       "      <td>151</td>\n",
       "      <td>9</td>\n",
       "      <td>24.66</td>\n",
       "      <td>27006726</td>\n",
       "    </tr>\n",
       "    <tr>\n",
       "      <th>3</th>\n",
       "      <td>143</td>\n",
       "      <td>4</td>\n",
       "      <td>21.34</td>\n",
       "      <td>83036521</td>\n",
       "    </tr>\n",
       "    <tr>\n",
       "      <th>4</th>\n",
       "      <td>168</td>\n",
       "      <td>2</td>\n",
       "      <td>83.90</td>\n",
       "      <td>80142652</td>\n",
       "    </tr>\n",
       "  </tbody>\n",
       "</table>\n",
       "</div>"
      ],
      "text/plain": [
       "   product_id  qty  amount  stock_code\n",
       "0         133    9   14.57    36239634\n",
       "1         155    5   65.48     2820163\n",
       "2         151    9   24.66    27006726\n",
       "3         143    4   21.34    83036521\n",
       "4         168    2   83.90    80142652"
      ]
     },
     "execution_count": 54,
     "metadata": {},
     "output_type": "execute_result"
    }
   ],
   "source": [
    "df.head()"
   ]
  },
  {
   "cell_type": "code",
   "execution_count": 55,
   "id": "b09e21c2",
   "metadata": {
    "scrolled": true
   },
   "outputs": [
    {
     "data": {
      "text/plain": [
       "<matplotlib.collections.PathCollection at 0x7fe3e4bb0d00>"
      ]
     },
     "execution_count": 55,
     "metadata": {},
     "output_type": "execute_result"
    },
    {
     "data": {
      "image/png": "[encoded data removed]",
      "text/plain": [
       "<Figure size 432x288 with 1 Axes>"
      ]
     },
     "metadata": {
      "needs_background": "light"
     },
     "output_type": "display_data"
    }
   ],
   "source": [
    "plt.scatter(df[\"product_id\"][:300], df[\"stock_code\"][:300])"
   ]
  },
  {
   "cell_type": "code",
   "execution_count": 56,
   "id": "fd516940",
   "metadata": {},
   "outputs": [
    {
     "data": {
      "image/png": "[encoded data removed]",
      "text/plain": [
       "<Figure size 432x288 with 1 Axes>"
      ]
     },
     "metadata": {
      "needs_background": "light"
     },
     "output_type": "display_data"
    },
    {
     "data": {
      "image/png": "[encoded data removed]",
      "text/plain": [
       "<Figure size 432x288 with 1 Axes>"
      ]
     },
     "metadata": {
      "needs_background": "light"
     },
     "output_type": "display_data"
    },
    {
     "data": {
      "image/png": "[encoded data removed]",
      "text/plain": [
       "<Figure size 432x288 with 1 Axes>"
      ]
     },
     "metadata": {
      "needs_background": "light"
     },
     "output_type": "display_data"
    }
   ],
   "source": [
    "for i in df.columns[:-1]:\n",
    "    plt.xlabel(i)\n",
    "    plt.ylabel(\"product_id\")\n",
    "    plt.scatter(df[i],df[\"product_id\"])\n",
    "    plt.show()"
   ]
  },
  {
   "cell_type": "code",
   "execution_count": 59,
   "id": "322d5f95",
   "metadata": {},
   "outputs": [],
   "source": [
    "x = np.array(df[\"qty\"]).reshape(-1,1)\n",
    "y = np.array(df[\"product_id\"]).reshape(-1,1)"
   ]
  },
  {
   "cell_type": "code",
   "execution_count": 60,
   "id": "da53e9ae",
   "metadata": {},
   "outputs": [],
   "source": [
    "from sklearn.linear_model import LinearRegression"
   ]
  },
  {
   "cell_type": "code",
   "execution_count": 61,
   "id": "e35d6510",
   "metadata": {},
   "outputs": [],
   "source": [
    "linear = LinearRegression()"
   ]
  },
  {
   "cell_type": "code",
   "execution_count": 62,
   "id": "50c25fa3",
   "metadata": {},
   "outputs": [
    {
     "data": {
      "text/plain": [
       "LinearRegression()"
      ]
     },
     "execution_count": 62,
     "metadata": {},
     "output_type": "execute_result"
    }
   ],
   "source": [
    "linear.fit(x,y)"
   ]
  },
  {
   "cell_type": "code",
   "execution_count": 63,
   "id": "18276678",
   "metadata": {},
   "outputs": [
    {
     "data": {
      "text/plain": [
       "array([[148.57714072]])"
      ]
     },
     "execution_count": 63,
     "metadata": {},
     "output_type": "execute_result"
    }
   ],
   "source": [
    "linear.predict([[34]])"
   ]
  },
  {
   "cell_type": "markdown",
   "id": "82407fcc",
   "metadata": {},
   "source": [
    "# Mulptiple Linear Regression"
   ]
  },
  {
   "cell_type": "code",
   "execution_count": 68,
   "id": "e4e105b9",
   "metadata": {},
   "outputs": [
    {
     "data": {
      "text/plain": [
       "4"
      ]
     },
     "execution_count": 68,
     "metadata": {},
     "output_type": "execute_result"
    }
   ],
   "source": [
    "len(df.columns)"
   ]
  },
  {
   "cell_type": "code",
   "execution_count": 69,
   "id": "89614325",
   "metadata": {
    "scrolled": true
   },
   "outputs": [
    {
     "data": {
      "text/plain": [
       "Index(['product_id', 'qty', 'amount', 'stock_code'], dtype='object')"
      ]
     },
     "execution_count": 69,
     "metadata": {},
     "output_type": "execute_result"
    }
   ],
   "source": [
    "df.columns"
   ]
  },
  {
   "cell_type": "code",
   "execution_count": 70,
   "id": "c1bd06d9",
   "metadata": {},
   "outputs": [],
   "source": [
    "x = df.drop(\"stock_code\",axis=1)\n",
    "y = df[\"stock_code\"]"
   ]
  },
  {
   "cell_type": "code",
   "execution_count": 71,
   "id": "7d20dcd3",
   "metadata": {},
   "outputs": [
    {
     "data": {
      "text/html": [
       "<div>\n",
       "<style scoped>\n",
       "    .dataframe tbody tr th:only-of-type {\n",
       "        vertical-align: middle;\n",
       "    }\n",
       "\n",
       "    .dataframe tbody tr th {\n",
       "        vertical-align: top;\n",
       "    }\n",
       "\n",
       "    .dataframe thead th {\n",
       "        text-align: right;\n",
       "    }\n",
       "</style>\n",
       "<table border=\"1\" class=\"dataframe\">\n",
       "  <thead>\n",
       "    <tr style=\"text-align: right;\">\n",
       "      <th></th>\n",
       "      <th>product_id</th>\n",
       "      <th>qty</th>\n",
       "      <th>amount</th>\n",
       "    </tr>\n",
       "  </thead>\n",
       "  <tbody>\n",
       "    <tr>\n",
       "      <th>0</th>\n",
       "      <td>133</td>\n",
       "      <td>9</td>\n",
       "      <td>14.57</td>\n",
       "    </tr>\n",
       "    <tr>\n",
       "      <th>1</th>\n",
       "      <td>155</td>\n",
       "      <td>5</td>\n",
       "      <td>65.48</td>\n",
       "    </tr>\n",
       "    <tr>\n",
       "      <th>2</th>\n",
       "      <td>151</td>\n",
       "      <td>9</td>\n",
       "      <td>24.66</td>\n",
       "    </tr>\n",
       "    <tr>\n",
       "      <th>3</th>\n",
       "      <td>143</td>\n",
       "      <td>4</td>\n",
       "      <td>21.34</td>\n",
       "    </tr>\n",
       "    <tr>\n",
       "      <th>4</th>\n",
       "      <td>168</td>\n",
       "      <td>2</td>\n",
       "      <td>83.90</td>\n",
       "    </tr>\n",
       "  </tbody>\n",
       "</table>\n",
       "</div>"
      ],
      "text/plain": [
       "   product_id  qty  amount\n",
       "0         133    9   14.57\n",
       "1         155    5   65.48\n",
       "2         151    9   24.66\n",
       "3         143    4   21.34\n",
       "4         168    2   83.90"
      ]
     },
     "execution_count": 71,
     "metadata": {},
     "output_type": "execute_result"
    }
   ],
   "source": [
    "x.head()"
   ]
  },
  {
   "cell_type": "code",
   "execution_count": 72,
   "id": "e4ea2a67",
   "metadata": {},
   "outputs": [
    {
     "data": {
      "text/plain": [
       "0    36239634\n",
       "1     2820163\n",
       "2    27006726\n",
       "3    83036521\n",
       "4    80142652\n",
       "Name: stock_code, dtype: int64"
      ]
     },
     "execution_count": 72,
     "metadata": {},
     "output_type": "execute_result"
    }
   ],
   "source": [
    "y.head()"
   ]
  },
  {
   "cell_type": "code",
   "execution_count": 73,
   "id": "ddc4652a",
   "metadata": {},
   "outputs": [],
   "source": [
    "model = LinearRegression()"
   ]
  },
  {
   "cell_type": "code",
   "execution_count": 74,
   "id": "518988c1",
   "metadata": {},
   "outputs": [
    {
     "data": {
      "text/html": [
       "<div>\n",
       "<style scoped>\n",
       "    .dataframe tbody tr th:only-of-type {\n",
       "        vertical-align: middle;\n",
       "    }\n",
       "\n",
       "    .dataframe tbody tr th {\n",
       "        vertical-align: top;\n",
       "    }\n",
       "\n",
       "    .dataframe thead th {\n",
       "        text-align: right;\n",
       "    }\n",
       "</style>\n",
       "<table border=\"1\" class=\"dataframe\">\n",
       "  <thead>\n",
       "    <tr style=\"text-align: right;\">\n",
       "      <th></th>\n",
       "      <th>product_id</th>\n",
       "      <th>qty</th>\n",
       "      <th>amount</th>\n",
       "      <th>stock_code</th>\n",
       "    </tr>\n",
       "  </thead>\n",
       "  <tbody>\n",
       "    <tr>\n",
       "      <th>0</th>\n",
       "      <td>133</td>\n",
       "      <td>9</td>\n",
       "      <td>14.57</td>\n",
       "      <td>36239634</td>\n",
       "    </tr>\n",
       "    <tr>\n",
       "      <th>1</th>\n",
       "      <td>155</td>\n",
       "      <td>5</td>\n",
       "      <td>65.48</td>\n",
       "      <td>2820163</td>\n",
       "    </tr>\n",
       "    <tr>\n",
       "      <th>2</th>\n",
       "      <td>151</td>\n",
       "      <td>9</td>\n",
       "      <td>24.66</td>\n",
       "      <td>27006726</td>\n",
       "    </tr>\n",
       "    <tr>\n",
       "      <th>3</th>\n",
       "      <td>143</td>\n",
       "      <td>4</td>\n",
       "      <td>21.34</td>\n",
       "      <td>83036521</td>\n",
       "    </tr>\n",
       "    <tr>\n",
       "      <th>4</th>\n",
       "      <td>168</td>\n",
       "      <td>2</td>\n",
       "      <td>83.90</td>\n",
       "      <td>80142652</td>\n",
       "    </tr>\n",
       "    <tr>\n",
       "      <th>...</th>\n",
       "      <td>...</td>\n",
       "      <td>...</td>\n",
       "      <td>...</td>\n",
       "      <td>...</td>\n",
       "    </tr>\n",
       "    <tr>\n",
       "      <th>9995</th>\n",
       "      <td>133</td>\n",
       "      <td>1</td>\n",
       "      <td>39.82</td>\n",
       "      <td>53513212</td>\n",
       "    </tr>\n",
       "    <tr>\n",
       "      <th>9996</th>\n",
       "      <td>133</td>\n",
       "      <td>1</td>\n",
       "      <td>21.94</td>\n",
       "      <td>61754737</td>\n",
       "    </tr>\n",
       "    <tr>\n",
       "      <th>9997</th>\n",
       "      <td>173</td>\n",
       "      <td>2</td>\n",
       "      <td>62.05</td>\n",
       "      <td>17037907</td>\n",
       "    </tr>\n",
       "    <tr>\n",
       "      <th>9998</th>\n",
       "      <td>146</td>\n",
       "      <td>5</td>\n",
       "      <td>11.35</td>\n",
       "      <td>32764659</td>\n",
       "    </tr>\n",
       "    <tr>\n",
       "      <th>9999</th>\n",
       "      <td>193</td>\n",
       "      <td>2</td>\n",
       "      <td>39.04</td>\n",
       "      <td>52015342</td>\n",
       "    </tr>\n",
       "  </tbody>\n",
       "</table>\n",
       "<p>10000 rows × 4 columns</p>\n",
       "</div>"
      ],
      "text/plain": [
       "      product_id  qty  amount  stock_code\n",
       "0            133    9   14.57    36239634\n",
       "1            155    5   65.48     2820163\n",
       "2            151    9   24.66    27006726\n",
       "3            143    4   21.34    83036521\n",
       "4            168    2   83.90    80142652\n",
       "...          ...  ...     ...         ...\n",
       "9995         133    1   39.82    53513212\n",
       "9996         133    1   21.94    61754737\n",
       "9997         173    2   62.05    17037907\n",
       "9998         146    5   11.35    32764659\n",
       "9999         193    2   39.04    52015342\n",
       "\n",
       "[10000 rows x 4 columns]"
      ]
     },
     "execution_count": 74,
     "metadata": {},
     "output_type": "execute_result"
    }
   ],
   "source": [
    "import seaborn as sns\n",
    "data = pd.read_csv(\"Retail.csv\")\n",
    "data"
   ]
  },
  {
   "cell_type": "code",
   "execution_count": 75,
   "id": "5ed96a61",
   "metadata": {},
   "outputs": [
    {
     "data": {
      "text/plain": [
       "<AxesSubplot:xlabel='product_id', ylabel='qty'>"
      ]
     },
     "execution_count": 75,
     "metadata": {},
     "output_type": "execute_result"
    },
    {
     "data": {
      "image/png": "[encoded data removed]",
      "text/plain": [
       "<Figure size 432x288 with 1 Axes>"
      ]
     },
     "metadata": {
      "needs_background": "light"
     },
     "output_type": "display_data"
    }
   ],
   "source": [
    "sns.regplot(x = \"product_id\",\n",
    "            y = \"qty\",\n",
    "            data = data)"
   ]
  },
  {
   "cell_type": "code",
   "execution_count": null,
   "id": "72e088fd",
   "metadata": {},
   "outputs": [],
   "source": []
  },
  {
   "cell_type": "markdown",
   "id": "b484110f",
   "metadata": {},
   "source": [
    "**split the data into testing and training**"
   ]
  },
  {
   "cell_type": "code",
   "execution_count": 76,
   "id": "96cd2bc9",
   "metadata": {},
   "outputs": [],
   "source": [
    "from sklearn.model_selection import train_test_split"
   ]
  },
  {
   "cell_type": "code",
   "execution_count": 77,
   "id": "33a61575",
   "metadata": {},
   "outputs": [],
   "source": [
    "xtrain,xtest,ytrain,ytest = train_test_split(data.drop(\"product_id\",axis=1),data[\"product_id\"],train_size = .75)"
   ]
  },
  {
   "cell_type": "code",
   "execution_count": 78,
   "id": "40c5a6b1",
   "metadata": {},
   "outputs": [
    {
     "data": {
      "text/plain": [
       "(7500, 3)"
      ]
     },
     "execution_count": 78,
     "metadata": {},
     "output_type": "execute_result"
    }
   ],
   "source": [
    "xtrain.shape"
   ]
  },
  {
   "cell_type": "code",
   "execution_count": 79,
   "id": "89d758e2",
   "metadata": {},
   "outputs": [
    {
     "data": {
      "text/plain": [
       "(7500,)"
      ]
     },
     "execution_count": 79,
     "metadata": {},
     "output_type": "execute_result"
    }
   ],
   "source": [
    "ytrain.shape"
   ]
  },
  {
   "cell_type": "code",
   "execution_count": 80,
   "id": "892fb174",
   "metadata": {},
   "outputs": [
    {
     "data": {
      "text/plain": [
       "(2500, 3)"
      ]
     },
     "execution_count": 80,
     "metadata": {},
     "output_type": "execute_result"
    }
   ],
   "source": [
    "xtest.shape"
   ]
  },
  {
   "cell_type": "code",
   "execution_count": 81,
   "id": "f1f7d8cc",
   "metadata": {
    "scrolled": true
   },
   "outputs": [
    {
     "data": {
      "text/plain": [
       "(2500,)"
      ]
     },
     "execution_count": 81,
     "metadata": {},
     "output_type": "execute_result"
    }
   ],
   "source": [
    "ytest.shape"
   ]
  },
  {
   "cell_type": "code",
   "execution_count": 82,
   "id": "0c600305",
   "metadata": {
    "scrolled": true
   },
   "outputs": [
    {
     "data": {
      "text/plain": [
       "LinearRegression()"
      ]
     },
     "execution_count": 82,
     "metadata": {},
     "output_type": "execute_result"
    }
   ],
   "source": [
    "model.fit(xtrain,ytrain)"
   ]
  },
  {
   "cell_type": "code",
   "execution_count": 86,
   "id": "abb624ab",
   "metadata": {},
   "outputs": [],
   "source": [
    "y_pred = model.predict(xtest)"
   ]
  },
  {
   "cell_type": "code",
   "execution_count": 87,
   "id": "f3d42af7",
   "metadata": {},
   "outputs": [
    {
     "data": {
      "text/plain": [
       "4293    114\n",
       "4928    124\n",
       "4720    180\n",
       "2643    118\n",
       "8928    195\n",
       "2816    167\n",
       "4461    170\n",
       "6692    196\n",
       "3184    102\n",
       "6268    132\n",
       "Name: product_id, dtype: int64"
      ]
     },
     "execution_count": 87,
     "metadata": {},
     "output_type": "execute_result"
    }
   ],
   "source": [
    "ytest.head(10)"
   ]
  },
  {
   "cell_type": "code",
   "execution_count": 88,
   "id": "462e9cc8",
   "metadata": {},
   "outputs": [
    {
     "data": {
      "text/html": [
       "<div>\n",
       "<style scoped>\n",
       "    .dataframe tbody tr th:only-of-type {\n",
       "        vertical-align: middle;\n",
       "    }\n",
       "\n",
       "    .dataframe tbody tr th {\n",
       "        vertical-align: top;\n",
       "    }\n",
       "\n",
       "    .dataframe thead th {\n",
       "        text-align: right;\n",
       "    }\n",
       "</style>\n",
       "<table border=\"1\" class=\"dataframe\">\n",
       "  <thead>\n",
       "    <tr style=\"text-align: right;\">\n",
       "      <th></th>\n",
       "      <th>qty</th>\n",
       "      <th>amount</th>\n",
       "      <th>stock_code</th>\n",
       "    </tr>\n",
       "  </thead>\n",
       "  <tbody>\n",
       "    <tr>\n",
       "      <th>4293</th>\n",
       "      <td>2</td>\n",
       "      <td>61.44</td>\n",
       "      <td>76927041</td>\n",
       "    </tr>\n",
       "    <tr>\n",
       "      <th>4928</th>\n",
       "      <td>6</td>\n",
       "      <td>11.94</td>\n",
       "      <td>39250032</td>\n",
       "    </tr>\n",
       "    <tr>\n",
       "      <th>4720</th>\n",
       "      <td>6</td>\n",
       "      <td>49.23</td>\n",
       "      <td>6125516</td>\n",
       "    </tr>\n",
       "    <tr>\n",
       "      <th>2643</th>\n",
       "      <td>8</td>\n",
       "      <td>74.24</td>\n",
       "      <td>12497577</td>\n",
       "    </tr>\n",
       "    <tr>\n",
       "      <th>8928</th>\n",
       "      <td>9</td>\n",
       "      <td>31.36</td>\n",
       "      <td>38101755</td>\n",
       "    </tr>\n",
       "  </tbody>\n",
       "</table>\n",
       "</div>"
      ],
      "text/plain": [
       "      qty  amount  stock_code\n",
       "4293    2   61.44    76927041\n",
       "4928    6   11.94    39250032\n",
       "4720    6   49.23     6125516\n",
       "2643    8   74.24    12497577\n",
       "8928    9   31.36    38101755"
      ]
     },
     "execution_count": 88,
     "metadata": {},
     "output_type": "execute_result"
    }
   ],
   "source": [
    "xtest.head()"
   ]
  },
  {
   "cell_type": "code",
   "execution_count": 89,
   "id": "451f44fb",
   "metadata": {},
   "outputs": [
    {
     "name": "stdout",
     "output_type": "stream",
     "text": [
      "149.831258472644\n",
      "149.87583562518284\n",
      "150.46536731543412\n",
      "150.0447732424075\n",
      "149.4332524185414\n",
      "150.1083065654105\n",
      "149.03125421198064\n",
      "150.17391195925717\n",
      "150.18629999460674\n",
      "150.37828010153984\n"
     ]
    }
   ],
   "source": [
    "for i in y_pred[:10]:\n",
    "    print(i)\n"
   ]
  },
  {
   "cell_type": "code",
   "execution_count": 90,
   "id": "d13ead83",
   "metadata": {},
   "outputs": [
    {
     "data": {
      "text/plain": [
       "0.0005088203018285276"
      ]
     },
     "execution_count": 90,
     "metadata": {},
     "output_type": "execute_result"
    }
   ],
   "source": [
    "model.score(xtrain, ytrain )"
   ]
  },
  {
   "cell_type": "code",
   "execution_count": 91,
   "id": "b192a76d",
   "metadata": {},
   "outputs": [
    {
     "data": {
      "text/plain": [
       "[<matplotlib.lines.Line2D at 0x7fe3e4de3a00>]"
      ]
     },
     "execution_count": 91,
     "metadata": {},
     "output_type": "execute_result"
    },
    {
     "data": {
      "image/png": "[encoded data removed]",
      "text/plain": [
       "<Figure size 432x288 with 1 Axes>"
      ]
     },
     "metadata": {
      "needs_background": "light"
     },
     "output_type": "display_data"
    }
   ],
   "source": [
    "plt.scatter(xtest[\"qty\"],ytest)\n",
    "plt.plot(y_pred)"
   ]
  },
  {
   "cell_type": "code",
   "execution_count": 92,
   "id": "5a377c2f",
   "metadata": {},
   "outputs": [],
   "source": [
    "from sklearn.metrics import mean_absolute_error, mean_squared_error, mean_squared_log_error"
   ]
  },
  {
   "cell_type": "code",
   "execution_count": 93,
   "id": "fd2bb855",
   "metadata": {},
   "outputs": [
    {
     "data": {
      "text/plain": [
       "24.5610388581195"
      ]
     },
     "execution_count": 93,
     "metadata": {},
     "output_type": "execute_result"
    }
   ],
   "source": [
    "mean_absolute_error(ytest, y_pred)"
   ]
  },
  {
   "cell_type": "code",
   "execution_count": 94,
   "id": "874fcd65",
   "metadata": {},
   "outputs": [
    {
     "data": {
      "text/plain": [
       "808.371469034115"
      ]
     },
     "execution_count": 94,
     "metadata": {},
     "output_type": "execute_result"
    }
   ],
   "source": [
    "mean_squared_error(ytest, y_pred)"
   ]
  },
  {
   "cell_type": "code",
   "execution_count": 95,
   "id": "38b30176",
   "metadata": {},
   "outputs": [
    {
     "data": {
      "text/plain": [
       "0.0005088203018285276"
      ]
     },
     "execution_count": 95,
     "metadata": {},
     "output_type": "execute_result"
    }
   ],
   "source": [
    "model.score(xtrain,ytrain) #r2 score"
   ]
  },
  {
   "cell_type": "code",
   "execution_count": null,
   "id": "f41ce5ca",
   "metadata": {},
   "outputs": [],
   "source": []
  },
  {
   "cell_type": "code",
   "execution_count": null,
   "id": "40057ea9",
   "metadata": {},
   "outputs": [],
   "source": []
  }
 ],
 "metadata": {
  "kernelspec": {
   "display_name": "Python 3 (ipykernel)",
   "language": "python",
   "name": "python3"
  },
  "language_info": {
   "codemirror_mode": {
    "name": "ipython",
    "version": 3
   },
   "file_extension": ".py",
   "mimetype": "text/x-python",
   "name": "python",
   "nbconvert_exporter": "python",
   "pygments_lexer": "ipython3",
   "version": "3.9.12"
  }
 },
 "nbformat": 4,
 "nbformat_minor": 5
}
